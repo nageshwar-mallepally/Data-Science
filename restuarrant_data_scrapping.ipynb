{
 "cells": [
  {
   "cell_type": "code",
   "execution_count": 5,
   "metadata": {},
   "outputs": [
    {
     "name": "stdout",
     "output_type": "stream",
     "text": [
      "[]\n"
     ]
    }
   ],
   "source": [
    "import time\n",
    "from selenium import webdriver\n",
    "from bs4 import BeautifulSoup\n",
    "from selenium.webdriver.chrome.options import Options\n",
    "from urllib.parse import urljoin\n",
    "from selenium.webdriver.common.keys import Keys\n",
    "from selenium.webdriver.common.by import By\n",
    "from selenium.webdriver.support.ui import WebDriverWait\n",
    "from selenium.webdriver.support import expected_conditions as EC\n",
    "from selenium.common.exceptions import NoSuchElementException\n",
    "from selenium.common.exceptions import TimeoutException\n",
    "from selenium.common.exceptions import StaleElementReferenceException\n",
    "\n",
    "\n",
    "driver = webdriver.Chrome(executable_path='./chromedriver.exe')\n",
    "driver.get('https://www.swiggy.com/')\n",
    "search_input = driver.find_element_by_css_selector('input#location')\n",
    "#city = input('enter the city')\n",
    "city = 'kolkata'\n",
    "search_input.send_keys(city)\n",
    "time.sleep(5)\n",
    "search_input.send_keys(Keys.DOWN)\n",
    "search_input.send_keys(Keys.ENTER)\n",
    "time.sleep(6)\n",
    "search = driver.find_element_by_link_text('Search').click()\n",
    "time.sleep(5)\n",
    "search_bar=driver.find_element_by_xpath('//*[@id=\"root\"]/div[1]/div/div/div/div/div/input')\n",
    "\n",
    "#lists = [' Bhetki Macher Paturi',' Daab Chingri', ' Shukto', ' Kosha Mangsho',' Keemar Doi Bora', ' Kathi Rolls', ' Jhal Muri']\n",
    "lists = [' Bhetki Macher Paturi']\n",
    "\n",
    "for item in lists:\n",
    "    rest_list = []\n",
    "    rating_list = []\n",
    "    search_bar.clear()\n",
    "    search_bar.send_keys(item)\n",
    "    search_bar.send_keys(Keys.ENTER)\n",
    "#     time.sleep(10)\n",
    "    time.sleep(6)\n",
    "    page_sources = BeautifulSoup(driver.page_source, \"html.parser\")\n",
    "    titles = driver.find_elements_by_xpath(\"//div[@class='_1HEuF _3pTZL']\")\n",
    "    for item1 in titles:\n",
    "        rating = item1.find_element_by_class_name('_3Mn31');\n",
    "        item = item1.find_element_by_class_name('_3Ztcd');\n",
    "        rating2 = rating.find_element_by_xpath(\"./div\").text\n",
    "        rating_list.append(rating2)\n",
    "        if isfloat(rating2):\n",
    "            if float(rating2) >= 4.0:\n",
    "                name = item.find_element_by_xpath(\"./div\").text\n",
    "                rest_list.append(name)\n",
    "#               item1.click()\n",
    "    time.sleep(6);\n",
    "    driver.back();\n",
    "    clear_button = driver.find_element_by_xpath(\"//button[@class='_3TI86']\").click()\n",
    "    time.sleep(6);\n",
    "    driver.close();\n",
    "    print(rest_list)\n",
    "   \n"
   ]
  },
  {
   "cell_type": "code",
   "execution_count": 26,
   "metadata": {},
   "outputs": [],
   "source": [
    "def isfloat(value):\n",
    "  try:\n",
    "    float(value)\n",
    "    return True\n",
    "  except ValueError:\n",
    "    return False"
   ]
  }
 ],
 "metadata": {
  "kernelspec": {
   "display_name": "Python 3",
   "language": "python",
   "name": "python3"
  },
  "language_info": {
   "codemirror_mode": {
    "name": "ipython",
    "version": 3
   },
   "file_extension": ".py",
   "mimetype": "text/x-python",
   "name": "python",
   "nbconvert_exporter": "python",
   "pygments_lexer": "ipython3",
   "version": "3.8.5"
  }
 },
 "nbformat": 4,
 "nbformat_minor": 4
}
