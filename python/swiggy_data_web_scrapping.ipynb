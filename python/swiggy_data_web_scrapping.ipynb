{
 "cells": [
  {
   "cell_type": "code",
   "execution_count": 1,
   "metadata": {},
   "outputs": [
    {
     "name": "stdout",
     "output_type": "stream",
     "text": [
      "['Machhli Baba Fries', 'Ilish Truly Bong Restaurant', 'Kasturi Restaurant', 'Aamar Bangla', \"Tinni's Kitchen\", 'Khawabo Jatane']\n",
      "['The Yellow Straw', 'Ichamotee', 'Ilish Truly Bong Restaurant', 'Falam', 'Balaram Mullick and Radharaman Mullick Sweets', 'Kasturi Restaurant', 'Machhli Baba Fries', 'Banglar Rannaghar', 'The Brewing Leaf', 'Aamar Bangla']\n",
      "['New Banglar Rannaghor', 'Banglar Rannaghar', 'Khawabo Jatane', \"Tinni's Kitchen\", \"Banani's Kitchen\"]\n",
      "['Ilish Truly Bong Restaurant', 'Soul of Bengal', 'Machhli Baba Fries', 'Kasturi Restaurant', 'Aamar Bangla', 'Breads and Curries', 'Kolkata@99']\n",
      "[\"Banchharam's\", \"BHIMNAG'S BROTHER SREENATH NAG\", 'Nalin Chandra Das & Sons - Hatibagan', 'Makhan Lal Das & Sons', 'Jashoda Mistanna Bhandar', \"Jugal's\", 'Haldirams-CIT Road', 'Nepal Sweets', 'Balaram Mullick & Radharaman Mullick Sweets-Bhawanipur', 'Hindusthan Sweets- Ballygunge', 'Banglar Rannaghar', 'Kasturi Restaurant', 'Aamar Bangla', \"Tinni's Kitchen\", 'Gupta Brothers Salt Lake', 'Kolkata@99']\n",
      "['Calcutta cravings', 'Barista', 'Room Service by Polo Floatel', 'Starbucks Coffee', 'Faasos - Wraps & Rolls', 'Wrap Co', 'Faasos - Wraps & Rolls']\n",
      "['Gupta Brothers The Abarkhabo Shoppe', \"Haldiram's Prabhuji-Brabourne Road\", 'Bhikharam Chandmal Rajuji - Brabourne Road', 'KALIGODAM', 'Bhikharam Chandmal Rajuji - Burrabazar', 'Bhikharam Chandmal', 'Foody Junction', 'Chhappan Bhog', 'Haldirams-CIT Road', 'Sharma Dhaba', 'Hindusthan Sweets- Ballygunge', 'new shiv namkeen and sweets', 'Banglar Rannaghar', \"Banchharam's\", 'Aamar Bangla', 'Gupta Brothers Salt Lake', 'Kolkata@99']\n"
     ]
    }
   ],
   "source": [
    "import time\n",
    "from selenium import webdriver\n",
    "from bs4 import BeautifulSoup\n",
    "from selenium.webdriver.chrome.options import Options\n",
    "from urllib.parse import urljoin\n",
    "from selenium.webdriver.common.keys import Keys\n",
    "from selenium.webdriver.common.by import By\n",
    "from selenium.webdriver.support.ui import WebDriverWait\n",
    "from selenium.webdriver.support import expected_conditions as EC\n",
    "from selenium.common.exceptions import NoSuchElementException\n",
    "from selenium.common.exceptions import TimeoutException\n",
    "from selenium.common.exceptions import StaleElementReferenceException\n",
    "\n",
    "\n",
    "driver = webdriver.Chrome(executable_path='./chromedriver.exe')\n",
    "driver.get('https://www.swiggy.com/')\n",
    "search_input = driver.find_element_by_css_selector('input#location')\n",
    "#city = input('enter the city')\n",
    "city = 'kolkata'\n",
    "search_input.send_keys(city)\n",
    "time.sleep(5)\n",
    "search_input.send_keys(Keys.DOWN)\n",
    "search_input.send_keys(Keys.ENTER)\n",
    "time.sleep(10)\n",
    "search = driver.find_element_by_link_text('Search').click()\n",
    "time.sleep(5)\n",
    "search_bar=driver.find_element_by_xpath('//*[@id=\"root\"]/div[1]/div/div/div/div/div/input')\n",
    "\n",
    "lists = [' Bhetki Macher Paturi',' Daab Chingri', ' Shukto', ' Kosha Mangsho',' Keemar Doi Bora', ' Kathi Rolls', ' Jhal Muri']\n",
    "\n",
    "for item in lists:\n",
    "    rest_list = []\n",
    "    search_bar.clear()\n",
    "    search_bar.send_keys(item)\n",
    "    search_bar.send_keys(Keys.ENTER)\n",
    "    time.sleep(10)\n",
    "    time.sleep(10)\n",
    "    page_sources = BeautifulSoup(driver.page_source, \"html.parser\")\n",
    "    titles = driver.find_elements_by_xpath(\"//div[@class='_3Ztcd']\")\n",
    "    for item in titles:\n",
    "        name = item.find_element_by_xpath(\"./div\").text\n",
    "        rest_list.append(name)\n",
    "    clear_button = driver.find_element_by_xpath(\"//button[@class='_3TI86']\").click()\n",
    "    print(rest_list)\n",
    "\n"
   ]
  }
 ],
 "metadata": {
  "kernelspec": {
   "display_name": "Python 3",
   "language": "python",
   "name": "python3"
  },
  "language_info": {
   "codemirror_mode": {
    "name": "ipython",
    "version": 3
   },
   "file_extension": ".py",
   "mimetype": "text/x-python",
   "name": "python",
   "nbconvert_exporter": "python",
   "pygments_lexer": "ipython3",
   "version": "3.8.5"
  }
 },
 "nbformat": 4,
 "nbformat_minor": 4
}
