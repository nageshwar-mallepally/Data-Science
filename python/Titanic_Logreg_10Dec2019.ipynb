{
 "cells": [
  {
   "cell_type": "code",
   "execution_count": 1,
   "metadata": {},
   "outputs": [],
   "source": [
    "import pandas as pd\n",
    "import numpy as np"
   ]
  },
  {
   "cell_type": "markdown",
   "metadata": {},
   "source": [
    "#### Read File"
   ]
  },
  {
   "cell_type": "code",
   "execution_count": 37,
   "metadata": {},
   "outputs": [],
   "source": [
    "titanic = pd.read_csv(\"titanic.csv\", na_values=[\"\",\" \",\"?\",\"NA\"])"
   ]
  },
  {
   "cell_type": "code",
   "execution_count": 3,
   "metadata": {},
   "outputs": [
    {
     "data": {
      "text/html": [
       "<div>\n",
       "<style scoped>\n",
       "    .dataframe tbody tr th:only-of-type {\n",
       "        vertical-align: middle;\n",
       "    }\n",
       "\n",
       "    .dataframe tbody tr th {\n",
       "        vertical-align: top;\n",
       "    }\n",
       "\n",
       "    .dataframe thead th {\n",
       "        text-align: right;\n",
       "    }\n",
       "</style>\n",
       "<table border=\"1\" class=\"dataframe\">\n",
       "  <thead>\n",
       "    <tr style=\"text-align: right;\">\n",
       "      <th></th>\n",
       "      <th>pclass</th>\n",
       "      <th>survived</th>\n",
       "      <th>name</th>\n",
       "      <th>sex</th>\n",
       "      <th>age</th>\n",
       "      <th>sibsp</th>\n",
       "      <th>parch</th>\n",
       "      <th>ticket</th>\n",
       "      <th>fare</th>\n",
       "      <th>cabin</th>\n",
       "      <th>embarked</th>\n",
       "      <th>boat</th>\n",
       "      <th>body</th>\n",
       "      <th>home_dest</th>\n",
       "    </tr>\n",
       "  </thead>\n",
       "  <tbody>\n",
       "    <tr>\n",
       "      <th>0</th>\n",
       "      <td>1</td>\n",
       "      <td>1</td>\n",
       "      <td>Allen Miss. Elisabeth Walton</td>\n",
       "      <td>female</td>\n",
       "      <td>29.0000</td>\n",
       "      <td>0</td>\n",
       "      <td>0</td>\n",
       "      <td>24160</td>\n",
       "      <td>211.3375</td>\n",
       "      <td>B5</td>\n",
       "      <td>S</td>\n",
       "      <td>2</td>\n",
       "      <td>NaN</td>\n",
       "      <td>St Louis MO</td>\n",
       "    </tr>\n",
       "    <tr>\n",
       "      <th>1</th>\n",
       "      <td>1</td>\n",
       "      <td>1</td>\n",
       "      <td>Allison Master. Hudson Trevor</td>\n",
       "      <td>male</td>\n",
       "      <td>0.9167</td>\n",
       "      <td>1</td>\n",
       "      <td>2</td>\n",
       "      <td>113781</td>\n",
       "      <td>151.5500</td>\n",
       "      <td>C22 C26</td>\n",
       "      <td>S</td>\n",
       "      <td>11</td>\n",
       "      <td>NaN</td>\n",
       "      <td>Montreal PQ / Chesterville ON</td>\n",
       "    </tr>\n",
       "    <tr>\n",
       "      <th>2</th>\n",
       "      <td>1</td>\n",
       "      <td>0</td>\n",
       "      <td>Allison Miss. Helen Loraine</td>\n",
       "      <td>female</td>\n",
       "      <td>2.0000</td>\n",
       "      <td>1</td>\n",
       "      <td>2</td>\n",
       "      <td>113781</td>\n",
       "      <td>151.5500</td>\n",
       "      <td>C22 C26</td>\n",
       "      <td>S</td>\n",
       "      <td>NaN</td>\n",
       "      <td>NaN</td>\n",
       "      <td>Montreal PQ / Chesterville ON</td>\n",
       "    </tr>\n",
       "    <tr>\n",
       "      <th>3</th>\n",
       "      <td>1</td>\n",
       "      <td>0</td>\n",
       "      <td>Allison Mr. Hudson Joshua Creighton</td>\n",
       "      <td>male</td>\n",
       "      <td>30.0000</td>\n",
       "      <td>1</td>\n",
       "      <td>2</td>\n",
       "      <td>113781</td>\n",
       "      <td>151.5500</td>\n",
       "      <td>C22 C26</td>\n",
       "      <td>S</td>\n",
       "      <td>NaN</td>\n",
       "      <td>135.0</td>\n",
       "      <td>Montreal PQ / Chesterville ON</td>\n",
       "    </tr>\n",
       "    <tr>\n",
       "      <th>4</th>\n",
       "      <td>1</td>\n",
       "      <td>0</td>\n",
       "      <td>Allison Mrs. Hudson J C (Bessie Waldo Daniels)</td>\n",
       "      <td>female</td>\n",
       "      <td>25.0000</td>\n",
       "      <td>1</td>\n",
       "      <td>2</td>\n",
       "      <td>113781</td>\n",
       "      <td>151.5500</td>\n",
       "      <td>C22 C26</td>\n",
       "      <td>S</td>\n",
       "      <td>NaN</td>\n",
       "      <td>NaN</td>\n",
       "      <td>Montreal PQ / Chesterville ON</td>\n",
       "    </tr>\n",
       "  </tbody>\n",
       "</table>\n",
       "</div>"
      ],
      "text/plain": [
       "   pclass  survived                                            name     sex  \\\n",
       "0       1         1                    Allen Miss. Elisabeth Walton  female   \n",
       "1       1         1                   Allison Master. Hudson Trevor    male   \n",
       "2       1         0                     Allison Miss. Helen Loraine  female   \n",
       "3       1         0             Allison Mr. Hudson Joshua Creighton    male   \n",
       "4       1         0  Allison Mrs. Hudson J C (Bessie Waldo Daniels)  female   \n",
       "\n",
       "       age  sibsp  parch  ticket      fare    cabin embarked boat   body  \\\n",
       "0  29.0000      0      0   24160  211.3375       B5        S    2    NaN   \n",
       "1   0.9167      1      2  113781  151.5500  C22 C26        S   11    NaN   \n",
       "2   2.0000      1      2  113781  151.5500  C22 C26        S  NaN    NaN   \n",
       "3  30.0000      1      2  113781  151.5500  C22 C26        S  NaN  135.0   \n",
       "4  25.0000      1      2  113781  151.5500  C22 C26        S  NaN    NaN   \n",
       "\n",
       "                       home_dest  \n",
       "0                    St Louis MO  \n",
       "1  Montreal PQ / Chesterville ON  \n",
       "2  Montreal PQ / Chesterville ON  \n",
       "3  Montreal PQ / Chesterville ON  \n",
       "4  Montreal PQ / Chesterville ON  "
      ]
     },
     "execution_count": 3,
     "metadata": {},
     "output_type": "execute_result"
    }
   ],
   "source": [
    "titanic.head()"
   ]
  },
  {
   "cell_type": "code",
   "execution_count": 7,
   "metadata": {},
   "outputs": [
    {
     "data": {
      "text/plain": [
       "pandas.core.frame.DataFrame"
      ]
     },
     "execution_count": 7,
     "metadata": {},
     "output_type": "execute_result"
    }
   ],
   "source": [
    "type(titanic)"
   ]
  },
  {
   "cell_type": "code",
   "execution_count": 6,
   "metadata": {
    "scrolled": true
   },
   "outputs": [
    {
     "data": {
      "text/plain": [
       "pclass         int64\n",
       "survived       int64\n",
       "name          object\n",
       "sex           object\n",
       "age          float64\n",
       "sibsp          int64\n",
       "parch          int64\n",
       "ticket        object\n",
       "fare         float64\n",
       "cabin         object\n",
       "embarked      object\n",
       "boat          object\n",
       "body         float64\n",
       "home_dest     object\n",
       "dtype: object"
      ]
     },
     "execution_count": 6,
     "metadata": {},
     "output_type": "execute_result"
    }
   ],
   "source": [
    "titanic.dtypes"
   ]
  },
  {
   "cell_type": "markdown",
   "metadata": {},
   "source": [
    "#### Feature Selection"
   ]
  },
  {
   "cell_type": "code",
   "execution_count": 38,
   "metadata": {},
   "outputs": [],
   "source": [
    "colsToUse = [\"age\", \"pclass\",\"fare\",\"sibsp\",\"parch\",\"survived\",\"sex\",\"embarked\"]"
   ]
  },
  {
   "cell_type": "code",
   "execution_count": 39,
   "metadata": {},
   "outputs": [],
   "source": [
    "titanic = titanic[colsToUse]\n",
    "#titanic = titanic.loc[:,colsToUse]"
   ]
  },
  {
   "cell_type": "code",
   "execution_count": 16,
   "metadata": {},
   "outputs": [
    {
     "data": {
      "text/html": [
       "<div>\n",
       "<style scoped>\n",
       "    .dataframe tbody tr th:only-of-type {\n",
       "        vertical-align: middle;\n",
       "    }\n",
       "\n",
       "    .dataframe tbody tr th {\n",
       "        vertical-align: top;\n",
       "    }\n",
       "\n",
       "    .dataframe thead th {\n",
       "        text-align: right;\n",
       "    }\n",
       "</style>\n",
       "<table border=\"1\" class=\"dataframe\">\n",
       "  <thead>\n",
       "    <tr style=\"text-align: right;\">\n",
       "      <th></th>\n",
       "      <th>age</th>\n",
       "      <th>pclass</th>\n",
       "      <th>fare</th>\n",
       "      <th>sibsp</th>\n",
       "      <th>parch</th>\n",
       "      <th>survived</th>\n",
       "      <th>sex</th>\n",
       "      <th>embarked</th>\n",
       "    </tr>\n",
       "  </thead>\n",
       "  <tbody>\n",
       "    <tr>\n",
       "      <th>0</th>\n",
       "      <td>29.0000</td>\n",
       "      <td>1</td>\n",
       "      <td>211.3375</td>\n",
       "      <td>0</td>\n",
       "      <td>0</td>\n",
       "      <td>1</td>\n",
       "      <td>female</td>\n",
       "      <td>S</td>\n",
       "    </tr>\n",
       "    <tr>\n",
       "      <th>1</th>\n",
       "      <td>0.9167</td>\n",
       "      <td>1</td>\n",
       "      <td>151.5500</td>\n",
       "      <td>1</td>\n",
       "      <td>2</td>\n",
       "      <td>1</td>\n",
       "      <td>male</td>\n",
       "      <td>S</td>\n",
       "    </tr>\n",
       "    <tr>\n",
       "      <th>2</th>\n",
       "      <td>2.0000</td>\n",
       "      <td>1</td>\n",
       "      <td>151.5500</td>\n",
       "      <td>1</td>\n",
       "      <td>2</td>\n",
       "      <td>0</td>\n",
       "      <td>female</td>\n",
       "      <td>S</td>\n",
       "    </tr>\n",
       "    <tr>\n",
       "      <th>3</th>\n",
       "      <td>30.0000</td>\n",
       "      <td>1</td>\n",
       "      <td>151.5500</td>\n",
       "      <td>1</td>\n",
       "      <td>2</td>\n",
       "      <td>0</td>\n",
       "      <td>male</td>\n",
       "      <td>S</td>\n",
       "    </tr>\n",
       "    <tr>\n",
       "      <th>4</th>\n",
       "      <td>25.0000</td>\n",
       "      <td>1</td>\n",
       "      <td>151.5500</td>\n",
       "      <td>1</td>\n",
       "      <td>2</td>\n",
       "      <td>0</td>\n",
       "      <td>female</td>\n",
       "      <td>S</td>\n",
       "    </tr>\n",
       "  </tbody>\n",
       "</table>\n",
       "</div>"
      ],
      "text/plain": [
       "       age  pclass      fare  sibsp  parch  survived     sex embarked\n",
       "0  29.0000       1  211.3375      0      0         1  female        S\n",
       "1   0.9167       1  151.5500      1      2         1    male        S\n",
       "2   2.0000       1  151.5500      1      2         0  female        S\n",
       "3  30.0000       1  151.5500      1      2         0    male        S\n",
       "4  25.0000       1  151.5500      1      2         0  female        S"
      ]
     },
     "execution_count": 16,
     "metadata": {},
     "output_type": "execute_result"
    }
   ],
   "source": [
    "titanic.head()"
   ]
  },
  {
   "cell_type": "code",
   "execution_count": 6,
   "metadata": {},
   "outputs": [
    {
     "data": {
      "text/html": [
       "<div>\n",
       "<style scoped>\n",
       "    .dataframe tbody tr th:only-of-type {\n",
       "        vertical-align: middle;\n",
       "    }\n",
       "\n",
       "    .dataframe tbody tr th {\n",
       "        vertical-align: top;\n",
       "    }\n",
       "\n",
       "    .dataframe thead th {\n",
       "        text-align: right;\n",
       "    }\n",
       "</style>\n",
       "<table border=\"1\" class=\"dataframe\">\n",
       "  <thead>\n",
       "    <tr style=\"text-align: right;\">\n",
       "      <th></th>\n",
       "      <th>age</th>\n",
       "      <th>pclass</th>\n",
       "      <th>fare</th>\n",
       "      <th>sibsp</th>\n",
       "      <th>parch</th>\n",
       "      <th>survived</th>\n",
       "    </tr>\n",
       "  </thead>\n",
       "  <tbody>\n",
       "    <tr>\n",
       "      <th>count</th>\n",
       "      <td>1046.000000</td>\n",
       "      <td>1309.000000</td>\n",
       "      <td>1308.000000</td>\n",
       "      <td>1309.000000</td>\n",
       "      <td>1309.000000</td>\n",
       "      <td>1309.000000</td>\n",
       "    </tr>\n",
       "    <tr>\n",
       "      <th>mean</th>\n",
       "      <td>29.881135</td>\n",
       "      <td>2.294882</td>\n",
       "      <td>33.295479</td>\n",
       "      <td>0.498854</td>\n",
       "      <td>0.385027</td>\n",
       "      <td>0.381971</td>\n",
       "    </tr>\n",
       "    <tr>\n",
       "      <th>std</th>\n",
       "      <td>14.413500</td>\n",
       "      <td>0.837836</td>\n",
       "      <td>51.758668</td>\n",
       "      <td>1.041658</td>\n",
       "      <td>0.865560</td>\n",
       "      <td>0.486055</td>\n",
       "    </tr>\n",
       "    <tr>\n",
       "      <th>min</th>\n",
       "      <td>0.166700</td>\n",
       "      <td>1.000000</td>\n",
       "      <td>0.000000</td>\n",
       "      <td>0.000000</td>\n",
       "      <td>0.000000</td>\n",
       "      <td>0.000000</td>\n",
       "    </tr>\n",
       "    <tr>\n",
       "      <th>25%</th>\n",
       "      <td>21.000000</td>\n",
       "      <td>2.000000</td>\n",
       "      <td>7.895800</td>\n",
       "      <td>0.000000</td>\n",
       "      <td>0.000000</td>\n",
       "      <td>0.000000</td>\n",
       "    </tr>\n",
       "    <tr>\n",
       "      <th>50%</th>\n",
       "      <td>28.000000</td>\n",
       "      <td>3.000000</td>\n",
       "      <td>14.454200</td>\n",
       "      <td>0.000000</td>\n",
       "      <td>0.000000</td>\n",
       "      <td>0.000000</td>\n",
       "    </tr>\n",
       "    <tr>\n",
       "      <th>75%</th>\n",
       "      <td>39.000000</td>\n",
       "      <td>3.000000</td>\n",
       "      <td>31.275000</td>\n",
       "      <td>1.000000</td>\n",
       "      <td>0.000000</td>\n",
       "      <td>1.000000</td>\n",
       "    </tr>\n",
       "    <tr>\n",
       "      <th>max</th>\n",
       "      <td>80.000000</td>\n",
       "      <td>3.000000</td>\n",
       "      <td>512.329200</td>\n",
       "      <td>8.000000</td>\n",
       "      <td>9.000000</td>\n",
       "      <td>1.000000</td>\n",
       "    </tr>\n",
       "  </tbody>\n",
       "</table>\n",
       "</div>"
      ],
      "text/plain": [
       "               age       pclass         fare        sibsp        parch  \\\n",
       "count  1046.000000  1309.000000  1308.000000  1309.000000  1309.000000   \n",
       "mean     29.881135     2.294882    33.295479     0.498854     0.385027   \n",
       "std      14.413500     0.837836    51.758668     1.041658     0.865560   \n",
       "min       0.166700     1.000000     0.000000     0.000000     0.000000   \n",
       "25%      21.000000     2.000000     7.895800     0.000000     0.000000   \n",
       "50%      28.000000     3.000000    14.454200     0.000000     0.000000   \n",
       "75%      39.000000     3.000000    31.275000     1.000000     0.000000   \n",
       "max      80.000000     3.000000   512.329200     8.000000     9.000000   \n",
       "\n",
       "          survived  \n",
       "count  1309.000000  \n",
       "mean      0.381971  \n",
       "std       0.486055  \n",
       "min       0.000000  \n",
       "25%       0.000000  \n",
       "50%       0.000000  \n",
       "75%       1.000000  \n",
       "max       1.000000  "
      ]
     },
     "execution_count": 6,
     "metadata": {},
     "output_type": "execute_result"
    }
   ],
   "source": [
    "titanic.describe()"
   ]
  },
  {
   "cell_type": "markdown",
   "metadata": {},
   "source": [
    "#### Missing Values"
   ]
  },
  {
   "cell_type": "code",
   "execution_count": 40,
   "metadata": {},
   "outputs": [],
   "source": [
    "miss = titanic.isnull().sum()\n",
    "miss = miss[miss>0]"
   ]
  },
  {
   "cell_type": "code",
   "execution_count": 41,
   "metadata": {},
   "outputs": [
    {
     "data": {
      "text/plain": [
       "Index(['age', 'fare', 'embarked'], dtype='object')"
      ]
     },
     "execution_count": 41,
     "metadata": {},
     "output_type": "execute_result"
    }
   ],
   "source": [
    "miss.index"
   ]
  },
  {
   "cell_type": "code",
   "execution_count": 42,
   "metadata": {},
   "outputs": [],
   "source": [
    "# Hold Shift + Tab for help on any method/function\n",
    "titanic['age'].fillna(value = titanic['age'].median(), inplace = True)\n",
    "titanic['fare'].fillna(value = titanic['fare'].median(), inplace = True)\n",
    "titanic['embarked'].fillna(value = titanic['embarked'].mode()[0], inplace = True)"
   ]
  },
  {
   "cell_type": "code",
   "execution_count": 43,
   "metadata": {},
   "outputs": [
    {
     "data": {
      "text/plain": [
       "age         0\n",
       "pclass      0\n",
       "fare        0\n",
       "sibsp       0\n",
       "parch       0\n",
       "survived    0\n",
       "sex         0\n",
       "embarked    0\n",
       "dtype: int64"
      ]
     },
     "execution_count": 43,
     "metadata": {},
     "output_type": "execute_result"
    }
   ],
   "source": [
    "titanic.isnull().sum()"
   ]
  },
  {
   "cell_type": "code",
   "execution_count": 44,
   "metadata": {},
   "outputs": [],
   "source": [
    "# Converting to strings/objects\n",
    "titanic['pclass'] = titanic['pclass'].astype(\"object\")\n",
    "#titanic['survived'] = titanic['survived'].astype(\"object\") # LogReg needs this to be a num value"
   ]
  },
  {
   "cell_type": "code",
   "execution_count": 45,
   "metadata": {},
   "outputs": [
    {
     "data": {
      "text/plain": [
       "age         float64\n",
       "pclass       object\n",
       "fare        float64\n",
       "sibsp         int64\n",
       "parch         int64\n",
       "survived      int64\n",
       "sex          object\n",
       "embarked     object\n",
       "dtype: object"
      ]
     },
     "execution_count": 45,
     "metadata": {},
     "output_type": "execute_result"
    }
   ],
   "source": [
    "titanic.dtypes"
   ]
  },
  {
   "cell_type": "code",
   "execution_count": 9,
   "metadata": {},
   "outputs": [
    {
     "data": {
      "text/html": [
       "<div>\n",
       "<style scoped>\n",
       "    .dataframe tbody tr th:only-of-type {\n",
       "        vertical-align: middle;\n",
       "    }\n",
       "\n",
       "    .dataframe tbody tr th {\n",
       "        vertical-align: top;\n",
       "    }\n",
       "\n",
       "    .dataframe thead th {\n",
       "        text-align: right;\n",
       "    }\n",
       "</style>\n",
       "<table border=\"1\" class=\"dataframe\">\n",
       "  <thead>\n",
       "    <tr style=\"text-align: right;\">\n",
       "      <th></th>\n",
       "      <th>age</th>\n",
       "      <th>fare</th>\n",
       "      <th>sibsp</th>\n",
       "      <th>parch</th>\n",
       "    </tr>\n",
       "  </thead>\n",
       "  <tbody>\n",
       "    <tr>\n",
       "      <th>age</th>\n",
       "      <td>1.000000</td>\n",
       "      <td>0.178182</td>\n",
       "      <td>-0.189972</td>\n",
       "      <td>-0.125851</td>\n",
       "    </tr>\n",
       "    <tr>\n",
       "      <th>fare</th>\n",
       "      <td>0.178182</td>\n",
       "      <td>1.000000</td>\n",
       "      <td>0.160349</td>\n",
       "      <td>0.221635</td>\n",
       "    </tr>\n",
       "    <tr>\n",
       "      <th>sibsp</th>\n",
       "      <td>-0.189972</td>\n",
       "      <td>0.160349</td>\n",
       "      <td>1.000000</td>\n",
       "      <td>0.373587</td>\n",
       "    </tr>\n",
       "    <tr>\n",
       "      <th>parch</th>\n",
       "      <td>-0.125851</td>\n",
       "      <td>0.221635</td>\n",
       "      <td>0.373587</td>\n",
       "      <td>1.000000</td>\n",
       "    </tr>\n",
       "  </tbody>\n",
       "</table>\n",
       "</div>"
      ],
      "text/plain": [
       "            age      fare     sibsp     parch\n",
       "age    1.000000  0.178182 -0.189972 -0.125851\n",
       "fare   0.178182  1.000000  0.160349  0.221635\n",
       "sibsp -0.189972  0.160349  1.000000  0.373587\n",
       "parch -0.125851  0.221635  0.373587  1.000000"
      ]
     },
     "execution_count": 9,
     "metadata": {},
     "output_type": "execute_result"
    }
   ],
   "source": [
    "titanic.corr()"
   ]
  },
  {
   "cell_type": "markdown",
   "metadata": {},
   "source": [
    "#### EDA in python to be repeated as done in R"
   ]
  },
  {
   "cell_type": "code",
   "execution_count": 10,
   "metadata": {},
   "outputs": [],
   "source": [
    "from plotnine import *"
   ]
  },
  {
   "cell_type": "code",
   "execution_count": 16,
   "metadata": {},
   "outputs": [
    {
     "data": {
      "image/png": "[encoded data removed]",
      "text/plain": [
       "<Figure size 640x480 with 1 Axes>"
      ]
     },
     "metadata": {},
     "output_type": "display_data"
    },
    {
     "data": {
      "text/plain": [
       "<ggplot: (-9223371936419359607)>"
      ]
     },
     "execution_count": 16,
     "metadata": {},
     "output_type": "execute_result"
    }
   ],
   "source": [
    "ggplot(titanic)+ geom_bar(aes(\"pclass\", fill=\"survived\"), position=\"dodge\")"
   ]
  },
  {
   "cell_type": "code",
   "execution_count": 18,
   "metadata": {},
   "outputs": [
    {
     "data": {
      "image/png": "[encoded data removed]",
      "text/plain": [
       "<Figure size 640x480 with 1 Axes>"
      ]
     },
     "metadata": {},
     "output_type": "display_data"
    },
    {
     "data": {
      "text/plain": [
       "<ggplot: (100435564040)>"
      ]
     },
     "execution_count": 18,
     "metadata": {},
     "output_type": "execute_result"
    }
   ],
   "source": [
    "ggplot(titanic)+ geom_boxplot(aes(x= \"pclass\", y=\"fare\"))"
   ]
  },
  {
   "cell_type": "code",
   "execution_count": 46,
   "metadata": {},
   "outputs": [],
   "source": [
    "y = titanic[\"survived\"]\n",
    "X = titanic.drop(['survived'],axis=1)"
   ]
  },
  {
   "cell_type": "code",
   "execution_count": 47,
   "metadata": {},
   "outputs": [
    {
     "data": {
      "text/html": [
       "<div>\n",
       "<style scoped>\n",
       "    .dataframe tbody tr th:only-of-type {\n",
       "        vertical-align: middle;\n",
       "    }\n",
       "\n",
       "    .dataframe tbody tr th {\n",
       "        vertical-align: top;\n",
       "    }\n",
       "\n",
       "    .dataframe thead th {\n",
       "        text-align: right;\n",
       "    }\n",
       "</style>\n",
       "<table border=\"1\" class=\"dataframe\">\n",
       "  <thead>\n",
       "    <tr style=\"text-align: right;\">\n",
       "      <th></th>\n",
       "      <th>age</th>\n",
       "      <th>pclass</th>\n",
       "      <th>fare</th>\n",
       "      <th>sibsp</th>\n",
       "      <th>parch</th>\n",
       "      <th>sex</th>\n",
       "      <th>embarked</th>\n",
       "    </tr>\n",
       "  </thead>\n",
       "  <tbody>\n",
       "    <tr>\n",
       "      <th>0</th>\n",
       "      <td>29.0000</td>\n",
       "      <td>1</td>\n",
       "      <td>211.3375</td>\n",
       "      <td>0</td>\n",
       "      <td>0</td>\n",
       "      <td>female</td>\n",
       "      <td>S</td>\n",
       "    </tr>\n",
       "    <tr>\n",
       "      <th>1</th>\n",
       "      <td>0.9167</td>\n",
       "      <td>1</td>\n",
       "      <td>151.5500</td>\n",
       "      <td>1</td>\n",
       "      <td>2</td>\n",
       "      <td>male</td>\n",
       "      <td>S</td>\n",
       "    </tr>\n",
       "    <tr>\n",
       "      <th>2</th>\n",
       "      <td>2.0000</td>\n",
       "      <td>1</td>\n",
       "      <td>151.5500</td>\n",
       "      <td>1</td>\n",
       "      <td>2</td>\n",
       "      <td>female</td>\n",
       "      <td>S</td>\n",
       "    </tr>\n",
       "    <tr>\n",
       "      <th>3</th>\n",
       "      <td>30.0000</td>\n",
       "      <td>1</td>\n",
       "      <td>151.5500</td>\n",
       "      <td>1</td>\n",
       "      <td>2</td>\n",
       "      <td>male</td>\n",
       "      <td>S</td>\n",
       "    </tr>\n",
       "    <tr>\n",
       "      <th>4</th>\n",
       "      <td>25.0000</td>\n",
       "      <td>1</td>\n",
       "      <td>151.5500</td>\n",
       "      <td>1</td>\n",
       "      <td>2</td>\n",
       "      <td>female</td>\n",
       "      <td>S</td>\n",
       "    </tr>\n",
       "  </tbody>\n",
       "</table>\n",
       "</div>"
      ],
      "text/plain": [
       "       age pclass      fare  sibsp  parch     sex embarked\n",
       "0  29.0000      1  211.3375      0      0  female        S\n",
       "1   0.9167      1  151.5500      1      2    male        S\n",
       "2   2.0000      1  151.5500      1      2  female        S\n",
       "3  30.0000      1  151.5500      1      2    male        S\n",
       "4  25.0000      1  151.5500      1      2  female        S"
      ]
     },
     "execution_count": 47,
     "metadata": {},
     "output_type": "execute_result"
    }
   ],
   "source": [
    "X.head()"
   ]
  },
  {
   "cell_type": "code",
   "execution_count": 48,
   "metadata": {},
   "outputs": [],
   "source": [
    "X = pd.get_dummies(X, drop_first=True)"
   ]
  },
  {
   "cell_type": "code",
   "execution_count": 49,
   "metadata": {},
   "outputs": [],
   "source": [
    "from sklearn.model_selection import train_test_split\n",
    "from sklearn.linear_model import LogisticRegression"
   ]
  },
  {
   "cell_type": "code",
   "execution_count": 50,
   "metadata": {},
   "outputs": [],
   "source": [
    "X_train, X_test, y_train, y_test  = train_test_split(X, y,test_size= 0.3, random_state = 123)"
   ]
  },
  {
   "cell_type": "code",
   "execution_count": 80,
   "metadata": {},
   "outputs": [
    {
     "name": "stderr",
     "output_type": "stream",
     "text": [
      "c:\\users\\phsivale\\appdata\\local\\continuum\\anaconda3\\envs\\gsk37\\lib\\site-packages\\sklearn\\linear_model\\logistic.py:432: FutureWarning: Default solver will be changed to 'lbfgs' in 0.22. Specify a solver to silence this warning.\n",
      "  FutureWarning)\n"
     ]
    },
    {
     "data": {
      "text/plain": [
       "LogisticRegression(C=1.0, class_weight='balanced', dual=False,\n",
       "                   fit_intercept=True, intercept_scaling=1, l1_ratio=None,\n",
       "                   max_iter=100, multi_class='warn', n_jobs=None, penalty='l2',\n",
       "                   random_state=None, solver='warn', tol=0.0001, verbose=0,\n",
       "                   warm_start=False)"
      ]
     },
     "execution_count": 80,
     "metadata": {},
     "output_type": "execute_result"
    }
   ],
   "source": [
    "clf = LogisticRegression(class_weight = \"balanced\")\n",
    "clf.fit(X_train, y_train)"
   ]
  },
  {
   "cell_type": "code",
   "execution_count": 81,
   "metadata": {},
   "outputs": [
    {
     "data": {
      "text/plain": [
       "{'age': -0.03194006206469068,\n",
       " 'fare': 0.0028043413090236007,\n",
       " 'sibsp': -0.2790853551794299,\n",
       " 'parch': 0.027732355552420276,\n",
       " 'pclass_2': -0.58264503643515,\n",
       " 'pclass_3': -1.390239885903382,\n",
       " 'sex_male': -2.23560789733165,\n",
       " 'embarked_Q': -0.4627092091180624,\n",
       " 'embarked_S': -0.6274581514859378}"
      ]
     },
     "execution_count": 81,
     "metadata": {},
     "output_type": "execute_result"
    }
   ],
   "source": [
    "dict(zip(X_train.columns, clf.coef_[0]))"
   ]
  },
  {
   "cell_type": "code",
   "execution_count": 64,
   "metadata": {
    "collapsed": true
   },
   "outputs": [
    {
     "data": {
      "text/plain": [
       "array([[0.26447079, 0.73552921],\n",
       "       [0.88397313, 0.11602687],\n",
       "       [0.22949512, 0.77050488],\n",
       "       [0.59491472, 0.40508528],\n",
       "       [0.79470451, 0.20529549],\n",
       "       [0.80437541, 0.19562459],\n",
       "       [0.13739452, 0.86260548],\n",
       "       [0.46209577, 0.53790423],\n",
       "       [0.86427004, 0.13572996],\n",
       "       [0.3961039 , 0.6038961 ],\n",
       "       [0.82783623, 0.17216377],\n",
       "       [0.520601  , 0.479399  ],\n",
       "       [0.07009188, 0.92990812],\n",
       "       [0.75852876, 0.24147124],\n",
       "       [0.48247732, 0.51752268],\n",
       "       [0.43912638, 0.56087362],\n",
       "       [0.09410733, 0.90589267],\n",
       "       [0.61719829, 0.38280171],\n",
       "       [0.71694452, 0.28305548],\n",
       "       [0.73394492, 0.26605508],\n",
       "       [0.81348635, 0.18651365],\n",
       "       [0.78839768, 0.21160232],\n",
       "       [0.26345133, 0.73654867],\n",
       "       [0.13976648, 0.86023352],\n",
       "       [0.87018561, 0.12981439],\n",
       "       [0.62007033, 0.37992967],\n",
       "       [0.61651067, 0.38348933],\n",
       "       [0.25391628, 0.74608372],\n",
       "       [0.67416592, 0.32583408],\n",
       "       [0.85114523, 0.14885477],\n",
       "       [0.5628    , 0.4372    ],\n",
       "       [0.42893274, 0.57106726],\n",
       "       [0.5329275 , 0.4670725 ],\n",
       "       [0.9284763 , 0.0715237 ],\n",
       "       [0.89006578, 0.10993422],\n",
       "       [0.77839364, 0.22160636],\n",
       "       [0.65242435, 0.34757565],\n",
       "       [0.40077253, 0.59922747],\n",
       "       [0.86970839, 0.13029161],\n",
       "       [0.18047196, 0.81952804],\n",
       "       [0.12495968, 0.87504032],\n",
       "       [0.8771065 , 0.1228935 ],\n",
       "       [0.95333651, 0.04666349],\n",
       "       [0.86892944, 0.13107056],\n",
       "       [0.81437788, 0.18562212],\n",
       "       [0.90686978, 0.09313022],\n",
       "       [0.26832113, 0.73167887],\n",
       "       [0.76478103, 0.23521897],\n",
       "       [0.763555  , 0.236445  ],\n",
       "       [0.40037231, 0.59962769],\n",
       "       [0.24935694, 0.75064306],\n",
       "       [0.72282503, 0.27717497],\n",
       "       [0.90075902, 0.09924098],\n",
       "       [0.87187128, 0.12812872],\n",
       "       [0.11567801, 0.88432199],\n",
       "       [0.89001548, 0.10998452],\n",
       "       [0.07466046, 0.92533954],\n",
       "       [0.91731378, 0.08268622],\n",
       "       [0.87017921, 0.12982079],\n",
       "       [0.9099769 , 0.0900231 ],\n",
       "       [0.35213125, 0.64786875],\n",
       "       [0.79979727, 0.20020273],\n",
       "       [0.88689314, 0.11310686],\n",
       "       [0.65943594, 0.34056406],\n",
       "       [0.79764045, 0.20235955],\n",
       "       [0.61868193, 0.38131807],\n",
       "       [0.78072481, 0.21927519],\n",
       "       [0.45086482, 0.54913518],\n",
       "       [0.54709993, 0.45290007],\n",
       "       [0.57242215, 0.42757785],\n",
       "       [0.79707614, 0.20292386],\n",
       "       [0.87392103, 0.12607897],\n",
       "       [0.06733241, 0.93266759],\n",
       "       [0.89773147, 0.10226853],\n",
       "       [0.43112355, 0.56887645],\n",
       "       [0.76605723, 0.23394277],\n",
       "       [0.85123414, 0.14876586],\n",
       "       [0.86944381, 0.13055619],\n",
       "       [0.39374957, 0.60625043],\n",
       "       [0.30174697, 0.69825303],\n",
       "       [0.88649671, 0.11350329],\n",
       "       [0.74005192, 0.25994808],\n",
       "       [0.92448143, 0.07551857],\n",
       "       [0.11350832, 0.88649168],\n",
       "       [0.90723781, 0.09276219],\n",
       "       [0.09418686, 0.90581314],\n",
       "       [0.15706293, 0.84293707],\n",
       "       [0.45428811, 0.54571189],\n",
       "       [0.86427004, 0.13572996],\n",
       "       [0.2837779 , 0.7162221 ],\n",
       "       [0.31044755, 0.68955245],\n",
       "       [0.7275036 , 0.2724964 ],\n",
       "       [0.12456919, 0.87543081],\n",
       "       [0.07641026, 0.92358974],\n",
       "       [0.45555747, 0.54444253],\n",
       "       [0.75325662, 0.24674338],\n",
       "       [0.90732938, 0.09267062],\n",
       "       [0.77407421, 0.22592579],\n",
       "       [0.79979544, 0.20020456],\n",
       "       [0.78839632, 0.21160368],\n",
       "       [0.05882535, 0.94117465],\n",
       "       [0.62449136, 0.37550864],\n",
       "       [0.23806128, 0.76193872],\n",
       "       [0.83945614, 0.16054386],\n",
       "       [0.62408367, 0.37591633],\n",
       "       [0.54857542, 0.45142458],\n",
       "       [0.74407988, 0.25592012],\n",
       "       [0.1827727 , 0.8172273 ],\n",
       "       [0.23124249, 0.76875751],\n",
       "       [0.89608366, 0.10391634],\n",
       "       [0.38618819, 0.61381181],\n",
       "       [0.37001653, 0.62998347],\n",
       "       [0.90830093, 0.09169907],\n",
       "       [0.85912936, 0.14087064],\n",
       "       [0.89322684, 0.10677316],\n",
       "       [0.29022519, 0.70977481],\n",
       "       [0.87038016, 0.12961984],\n",
       "       [0.38353289, 0.61646711],\n",
       "       [0.39712731, 0.60287269],\n",
       "       [0.90455196, 0.09544804],\n",
       "       [0.22067699, 0.77932301],\n",
       "       [0.80014019, 0.19985981],\n",
       "       [0.45187774, 0.54812226],\n",
       "       [0.94117895, 0.05882105],\n",
       "       [0.06484062, 0.93515938],\n",
       "       [0.86654669, 0.13345331],\n",
       "       [0.84285569, 0.15714431],\n",
       "       [0.80945699, 0.19054301],\n",
       "       [0.74005192, 0.25994808],\n",
       "       [0.89624122, 0.10375878],\n",
       "       [0.86289296, 0.13710704],\n",
       "       [0.36646664, 0.63353336],\n",
       "       [0.76166079, 0.23833921],\n",
       "       [0.75205344, 0.24794656],\n",
       "       [0.40174316, 0.59825684],\n",
       "       [0.12788618, 0.87211382],\n",
       "       [0.21136337, 0.78863663],\n",
       "       [0.94005792, 0.05994208],\n",
       "       [0.46953225, 0.53046775],\n",
       "       [0.88377063, 0.11622937],\n",
       "       [0.75852876, 0.24147124],\n",
       "       [0.87902424, 0.12097576],\n",
       "       [0.82971054, 0.17028946],\n",
       "       [0.72747756, 0.27252244],\n",
       "       [0.28482962, 0.71517038],\n",
       "       [0.89595479, 0.10404521],\n",
       "       [0.8839173 , 0.1160827 ],\n",
       "       [0.88369374, 0.11630626],\n",
       "       [0.87395766, 0.12604234],\n",
       "       [0.90622346, 0.09377654],\n",
       "       [0.73527125, 0.26472875],\n",
       "       [0.09251112, 0.90748888],\n",
       "       [0.29786281, 0.70213719],\n",
       "       [0.11144957, 0.88855043],\n",
       "       [0.74135853, 0.25864147],\n",
       "       [0.36377011, 0.63622989],\n",
       "       [0.90422402, 0.09577598],\n",
       "       [0.87713949, 0.12286051],\n",
       "       [0.88309603, 0.11690397],\n",
       "       [0.71693791, 0.28306209],\n",
       "       [0.47552618, 0.52447382],\n",
       "       [0.48572903, 0.51427097],\n",
       "       [0.89898119, 0.10101881],\n",
       "       [0.93238692, 0.06761308],\n",
       "       [0.67350114, 0.32649886],\n",
       "       [0.85910328, 0.14089672],\n",
       "       [0.79662688, 0.20337312],\n",
       "       [0.65770213, 0.34229787],\n",
       "       [0.66126531, 0.33873469],\n",
       "       [0.81445277, 0.18554723],\n",
       "       [0.32405867, 0.67594133],\n",
       "       [0.31319066, 0.68680934],\n",
       "       [0.13306465, 0.86693535],\n",
       "       [0.89738913, 0.10261087],\n",
       "       [0.88398709, 0.11601291],\n",
       "       [0.88373686, 0.11626314],\n",
       "       [0.86212282, 0.13787718],\n",
       "       [0.62417224, 0.37582776],\n",
       "       [0.39619614, 0.60380386],\n",
       "       [0.88205654, 0.11794346],\n",
       "       [0.07755044, 0.92244956],\n",
       "       [0.53434036, 0.46565964],\n",
       "       [0.05865035, 0.94134965],\n",
       "       [0.17775658, 0.82224342],\n",
       "       [0.84698396, 0.15301604],\n",
       "       [0.87871643, 0.12128357],\n",
       "       [0.6522392 , 0.3477608 ],\n",
       "       [0.91259046, 0.08740954],\n",
       "       [0.08352635, 0.91647365],\n",
       "       [0.36394597, 0.63605403],\n",
       "       [0.12162003, 0.87837997],\n",
       "       [0.89224974, 0.10775026],\n",
       "       [0.74606723, 0.25393277],\n",
       "       [0.36646664, 0.63353336],\n",
       "       [0.8911987 , 0.1088013 ],\n",
       "       [0.50202677, 0.49797323],\n",
       "       [0.17675081, 0.82324919],\n",
       "       [0.29250648, 0.70749352],\n",
       "       [0.97005499, 0.02994501],\n",
       "       [0.13692535, 0.86307465],\n",
       "       [0.89005655, 0.10994345],\n",
       "       [0.25028768, 0.74971232],\n",
       "       [0.88350831, 0.11649169],\n",
       "       [0.87365844, 0.12634156],\n",
       "       [0.90717116, 0.09282884],\n",
       "       [0.13646527, 0.86353473],\n",
       "       [0.53654061, 0.46345939],\n",
       "       [0.50045799, 0.49954201],\n",
       "       [0.47087394, 0.52912606],\n",
       "       [0.895715  , 0.104285  ],\n",
       "       [0.79597354, 0.20402646],\n",
       "       [0.75031397, 0.24968603],\n",
       "       [0.83387992, 0.16612008],\n",
       "       [0.92089244, 0.07910756],\n",
       "       [0.76403164, 0.23596836],\n",
       "       [0.88373918, 0.11626082],\n",
       "       [0.83832862, 0.16167138],\n",
       "       [0.06393562, 0.93606438],\n",
       "       [0.8679239 , 0.1320761 ],\n",
       "       [0.19464045, 0.80535955],\n",
       "       [0.90812659, 0.09187341],\n",
       "       [0.15339605, 0.84660395],\n",
       "       [0.12158826, 0.87841174],\n",
       "       [0.43389692, 0.56610308],\n",
       "       [0.27928778, 0.72071222],\n",
       "       [0.15442202, 0.84557798],\n",
       "       [0.388178  , 0.611822  ],\n",
       "       [0.18861827, 0.81138173],\n",
       "       [0.43912638, 0.56087362],\n",
       "       [0.92635547, 0.07364453],\n",
       "       [0.79914833, 0.20085167],\n",
       "       [0.79597354, 0.20402646],\n",
       "       [0.74407988, 0.25592012],\n",
       "       [0.8839173 , 0.1160827 ],\n",
       "       [0.69209459, 0.30790541],\n",
       "       [0.85903877, 0.14096123],\n",
       "       [0.06799718, 0.93200282],\n",
       "       [0.88889518, 0.11110482],\n",
       "       [0.87040831, 0.12959169],\n",
       "       [0.77060579, 0.22939421],\n",
       "       [0.59926973, 0.40073027],\n",
       "       [0.88047213, 0.11952787],\n",
       "       [0.79950482, 0.20049518],\n",
       "       [0.41087536, 0.58912464],\n",
       "       [0.87027141, 0.12972859],\n",
       "       [0.61267867, 0.38732133],\n",
       "       [0.86944381, 0.13055619],\n",
       "       [0.79950547, 0.20049453],\n",
       "       [0.22103107, 0.77896893],\n",
       "       [0.87973797, 0.12026203],\n",
       "       [0.65238513, 0.34761487],\n",
       "       [0.22203724, 0.77796276],\n",
       "       [0.89353235, 0.10646765],\n",
       "       [0.86427668, 0.13572332],\n",
       "       [0.48582528, 0.51417472],\n",
       "       [0.73657183, 0.26342817],\n",
       "       [0.7731736 , 0.2268264 ],\n",
       "       [0.92623324, 0.07376676],\n",
       "       [0.50152732, 0.49847268],\n",
       "       [0.84899771, 0.15100229],\n",
       "       [0.60195321, 0.39804679],\n",
       "       [0.86422879, 0.13577121],\n",
       "       [0.88377063, 0.11622937],\n",
       "       [0.91138441, 0.08861559],\n",
       "       [0.85128727, 0.14871273],\n",
       "       [0.84875724, 0.15124276],\n",
       "       [0.74756971, 0.25243029],\n",
       "       [0.92203716, 0.07796284],\n",
       "       [0.7142964 , 0.2857036 ],\n",
       "       [0.05466918, 0.94533082],\n",
       "       [0.40619736, 0.59380264],\n",
       "       [0.87016126, 0.12983874],\n",
       "       [0.3045055 , 0.6954945 ],\n",
       "       [0.88369374, 0.11630626],\n",
       "       [0.89109017, 0.10890983],\n",
       "       [0.84787834, 0.15212166],\n",
       "       [0.83242545, 0.16757455],\n",
       "       [0.88369374, 0.11630626],\n",
       "       [0.76155444, 0.23844556],\n",
       "       [0.86380584, 0.13619416],\n",
       "       [0.94340137, 0.05659863],\n",
       "       [0.82285921, 0.17714079],\n",
       "       [0.87025476, 0.12974524],\n",
       "       [0.24967948, 0.75032052],\n",
       "       [0.73394492, 0.26605508],\n",
       "       [0.84787834, 0.15212166],\n",
       "       [0.71095903, 0.28904097],\n",
       "       [0.86427004, 0.13572996],\n",
       "       [0.86286076, 0.13713924],\n",
       "       [0.8869409 , 0.1130591 ],\n",
       "       [0.14848389, 0.85151611],\n",
       "       [0.53662534, 0.46337466],\n",
       "       [0.82285921, 0.17714079],\n",
       "       [0.22488844, 0.77511156],\n",
       "       [0.63026445, 0.36973555],\n",
       "       [0.8552461 , 0.1447539 ],\n",
       "       [0.84398222, 0.15601778],\n",
       "       [0.88170737, 0.11829263],\n",
       "       [0.86427004, 0.13572996],\n",
       "       [0.86239181, 0.13760819],\n",
       "       [0.80969712, 0.19030288],\n",
       "       [0.79979544, 0.20020456],\n",
       "       [0.92181926, 0.07818074],\n",
       "       [0.86427004, 0.13572996],\n",
       "       [0.07307494, 0.92692506],\n",
       "       [0.89001548, 0.10998452],\n",
       "       [0.70436834, 0.29563166],\n",
       "       [0.72909306, 0.27090694],\n",
       "       [0.84313184, 0.15686816],\n",
       "       [0.45771429, 0.54228571],\n",
       "       [0.86427004, 0.13572996],\n",
       "       [0.74606723, 0.25393277],\n",
       "       [0.57469845, 0.42530155],\n",
       "       [0.75199   , 0.24801   ],\n",
       "       [0.09502876, 0.90497124],\n",
       "       [0.18196057, 0.81803943],\n",
       "       [0.09362115, 0.90637885],\n",
       "       [0.20641752, 0.79358248],\n",
       "       [0.86427004, 0.13572996],\n",
       "       [0.62017088, 0.37982912],\n",
       "       [0.74984382, 0.25015618],\n",
       "       [0.5013909 , 0.4986091 ],\n",
       "       [0.85666358, 0.14333642],\n",
       "       [0.13524566, 0.86475434],\n",
       "       [0.86427004, 0.13572996],\n",
       "       [0.86427004, 0.13572996],\n",
       "       [0.396188  , 0.603812  ],\n",
       "       [0.40109933, 0.59890067],\n",
       "       [0.88309603, 0.11690397],\n",
       "       [0.4128041 , 0.5871959 ],\n",
       "       [0.86577182, 0.13422818],\n",
       "       [0.34652894, 0.65347106],\n",
       "       [0.86427004, 0.13572996],\n",
       "       [0.20147687, 0.79852313],\n",
       "       [0.39619887, 0.60380113],\n",
       "       [0.88373686, 0.11626314],\n",
       "       [0.9369029 , 0.0630971 ],\n",
       "       [0.4960813 , 0.5039187 ],\n",
       "       [0.48644961, 0.51355039],\n",
       "       [0.57961354, 0.42038646],\n",
       "       [0.75199   , 0.24801   ],\n",
       "       [0.29022519, 0.70977481],\n",
       "       [0.396188  , 0.603812  ],\n",
       "       [0.81444924, 0.18555076],\n",
       "       [0.05790279, 0.94209721],\n",
       "       [0.7805314 , 0.2194686 ],\n",
       "       [0.36377011, 0.63622989],\n",
       "       [0.90522216, 0.09477784],\n",
       "       [0.77406949, 0.22593051],\n",
       "       [0.56499446, 0.43500554],\n",
       "       [0.0597649 , 0.9402351 ],\n",
       "       [0.8911987 , 0.1088013 ],\n",
       "       [0.06814528, 0.93185472],\n",
       "       [0.69686216, 0.30313784],\n",
       "       [0.31013945, 0.68986055],\n",
       "       [0.19237389, 0.80762611],\n",
       "       [0.47049351, 0.52950649],\n",
       "       [0.39613644, 0.60386356],\n",
       "       [0.85518012, 0.14481988],\n",
       "       [0.86452522, 0.13547478],\n",
       "       [0.72909306, 0.27090694],\n",
       "       [0.25150818, 0.74849182],\n",
       "       [0.75638576, 0.24361424],\n",
       "       [0.79979727, 0.20020273],\n",
       "       [0.85119682, 0.14880318],\n",
       "       [0.52539587, 0.47460413],\n",
       "       [0.739307  , 0.260693  ],\n",
       "       [0.68657495, 0.31342505],\n",
       "       [0.15776586, 0.84223414],\n",
       "       [0.33148848, 0.66851152],\n",
       "       [0.27596741, 0.72403259],\n",
       "       [0.49926   , 0.50074   ],\n",
       "       [0.90711386, 0.09288614],\n",
       "       [0.76475359, 0.23524641],\n",
       "       [0.89897091, 0.10102909],\n",
       "       [0.72282503, 0.27717497],\n",
       "       [0.6136708 , 0.3863292 ],\n",
       "       [0.61975741, 0.38024259],\n",
       "       [0.40696924, 0.59303076],\n",
       "       [0.20056997, 0.79943003],\n",
       "       [0.10896168, 0.89103832],\n",
       "       [0.79871805, 0.20128195],\n",
       "       [0.88369374, 0.11630626],\n",
       "       [0.57698669, 0.42301331],\n",
       "       [0.88369374, 0.11630626],\n",
       "       [0.47785111, 0.52214889],\n",
       "       [0.72121286, 0.27878714],\n",
       "       [0.86286076, 0.13713924],\n",
       "       [0.1653648 , 0.8346352 ],\n",
       "       [0.92477266, 0.07522734],\n",
       "       [0.12277544, 0.87722456],\n",
       "       [0.63761643, 0.36238357],\n",
       "       [0.88187756, 0.11812244]])"
      ]
     },
     "execution_count": 64,
     "metadata": {},
     "output_type": "execute_result"
    }
   ],
   "source": [
    "clf.predict_proba(X_test) # For probilities"
   ]
  },
  {
   "cell_type": "code",
   "execution_count": 82,
   "metadata": {},
   "outputs": [],
   "source": [
    "preds = clf.predict(X_test) # For 0/1"
   ]
  },
  {
   "cell_type": "code",
   "execution_count": 83,
   "metadata": {},
   "outputs": [],
   "source": [
    "from sklearn.metrics import confusion_matrix, classification_report"
   ]
  },
  {
   "cell_type": "code",
   "execution_count": 69,
   "metadata": {},
   "outputs": [
    {
     "data": {
      "text/plain": [
       "array([[214,  30],\n",
       "       [ 45, 104]], dtype=int64)"
      ]
     },
     "execution_count": 69,
     "metadata": {},
     "output_type": "execute_result"
    }
   ],
   "source": [
    "confusion_matrix(y_test, preds)"
   ]
  },
  {
   "cell_type": "code",
   "execution_count": 84,
   "metadata": {},
   "outputs": [
    {
     "data": {
      "text/plain": [
       "array([[199,  45],\n",
       "       [ 38, 111]], dtype=int64)"
      ]
     },
     "execution_count": 84,
     "metadata": {},
     "output_type": "execute_result"
    }
   ],
   "source": [
    "confusion_matrix(y_test, preds)"
   ]
  },
  {
   "cell_type": "code",
   "execution_count": 71,
   "metadata": {},
   "outputs": [
    {
     "name": "stdout",
     "output_type": "stream",
     "text": [
      "              precision    recall  f1-score   support\n",
      "\n",
      "           0       0.83      0.88      0.85       244\n",
      "           1       0.78      0.70      0.73       149\n",
      "\n",
      "    accuracy                           0.81       393\n",
      "   macro avg       0.80      0.79      0.79       393\n",
      "weighted avg       0.81      0.81      0.81       393\n",
      "\n"
     ]
    }
   ],
   "source": [
    "print(classification_report(y_test, preds))"
   ]
  },
  {
   "cell_type": "code",
   "execution_count": 85,
   "metadata": {},
   "outputs": [
    {
     "name": "stdout",
     "output_type": "stream",
     "text": [
      "              precision    recall  f1-score   support\n",
      "\n",
      "           0       0.84      0.82      0.83       244\n",
      "           1       0.71      0.74      0.73       149\n",
      "\n",
      "    accuracy                           0.79       393\n",
      "   macro avg       0.78      0.78      0.78       393\n",
      "weighted avg       0.79      0.79      0.79       393\n",
      "\n"
     ]
    }
   ],
   "source": [
    "print(classification_report(y_test, preds))"
   ]
  },
  {
   "cell_type": "code",
   "execution_count": 73,
   "metadata": {},
   "outputs": [],
   "source": [
    "preds = clf.predict_proba(X_test)"
   ]
  },
  {
   "cell_type": "code",
   "execution_count": 79,
   "metadata": {},
   "outputs": [
    {
     "data": {
      "text/plain": [
       "0      0.735529\n",
       "1      0.116027\n",
       "2      0.770505\n",
       "3      0.405085\n",
       "4      0.205295\n",
       "         ...   \n",
       "388    0.834635\n",
       "389    0.075227\n",
       "390    0.877225\n",
       "391    0.362384\n",
       "392    0.118122\n",
       "Name: 1, Length: 393, dtype: float64"
      ]
     },
     "execution_count": 79,
     "metadata": {},
     "output_type": "execute_result"
    }
   ],
   "source": [
    "pd.DataFrame(preds)[1]"
   ]
  }
 ],
 "metadata": {
  "kernelspec": {
   "display_name": "Python 3",
   "language": "python",
   "name": "python3"
  },
  "language_info": {
   "codemirror_mode": {
    "name": "ipython",
    "version": 3
   },
   "file_extension": ".py",
   "mimetype": "text/x-python",
   "name": "python",
   "nbconvert_exporter": "python",
   "pygments_lexer": "ipython3",
   "version": "3.8.5"
  }
 },
 "nbformat": 4,
 "nbformat_minor": 2
}
